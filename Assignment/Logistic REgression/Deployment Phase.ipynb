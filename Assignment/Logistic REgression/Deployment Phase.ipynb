{
 "cells": [
  {
   "cell_type": "code",
   "execution_count": 5,
   "id": "5a56c9a4-51a0-4bfa-9729-73efb3cd0393",
   "metadata": {
    "scrolled": true
   },
   "outputs": [
    {
     "name": "stdin",
     "output_type": "stream",
     "text": [
      "AGE: 6.0\n",
      "Bp: 80.459949\n",
      "Al: 4.0\n",
      "Su: 0.0\n",
      "BGR: 149.112676\n",
      "Bu: 25.000000\n",
      "Sc: 4.077356\n",
      "Sod: 139.528755\n",
      "Pot: 4.627288\n",
      "hrmo: 13.518159\n",
      "pcv: 39.868900\n",
      "Wc: 8409.191129\n",
      "Rc: 5.705599\n",
      "SG_B: 1\n",
      "SG_C: 1\n",
      "SG_D: 0\n",
      "SG_E: 0\n",
      "Rbc_normal: 1\n",
      "Pc_normal: 1\n",
      "Pcc_present: 0\n",
      "Ba_present: 1\n",
      "Htn_yes: 1\n",
      "Dm_yes: 0\n",
      "Cad_yes: 1\n",
      "Appet_yes: 0\n",
      "Pe_yes: 1\n",
      "Ane_yes: 0\n"
     ]
    }
   ],
   "source": [
    "# Get the inputs from the user and perform Future Predictions\n",
    "\n",
    "Input_age = float(input(\"AGE:\"))\n",
    "Input_bp = float(input(\"Bp:\"))\n",
    "Input_al = float(input(\"Al:\"))\n",
    "Input_Su = float(input(\"Su:\"))\n",
    "Input_Bgr = float(input(\"BGR:\"))\n",
    "Input_Bu = float(input(\"Bu:\"))\n",
    "Input_Sc = float(input(\"Sc:\"))\n",
    "Input_Sod = float(input(\"Sod:\"))\n",
    "Input_Pot = float(input(\"Pot:\"))\n",
    "Input_hrmo = float(input(\"hrmo:\"))\n",
    "Input_pcv = float(input(\"pcv:\"))\n",
    "Input_wc = float(input(\"Wc:\"))\n",
    "Input_rc = float(input(\"Rc:\"))\n",
    "Input_sg_b = int(input(\"SG_B:\"))\n",
    "Input_sg_c = int(input(\"SG_C:\"))\n",
    "Input_sg_d = int(input(\"SG_D:\"))\n",
    "Input_sg_e = int(input(\"SG_E:\"))\n",
    "Input_rbc_normal = int(input(\"Rbc_normal:\"))\n",
    "Input_pc_normal = int(input(\"Pc_normal:\"))\n",
    "Input_pcc_present = int(input(\"Pcc_present:\"))\n",
    "Input_ba_present = int(input(\"Ba_present:\"))\n",
    "Input_htn = int(input(\"Htn_yes:\"))\n",
    "Input_dm = int(input(\"Dm_yes:\"))\n",
    "Input_cad = int(input(\"Cad_yes:\"))\n",
    "Input_appet = int(input(\"Appet_yes:\"))\n",
    "Input_pe = int(input(\"Pe_yes:\"))\n",
    "Input_ane = int(input(\"Ane_yes:\"))"
   ]
  },
  {
   "cell_type": "code",
   "execution_count": 7,
   "id": "83e6901f-0139-4782-80cb-6e8732ec4f11",
   "metadata": {},
   "outputs": [],
   "source": [
    "#using pickle.We are loading the model to a variable loaded_model\n",
    "import pickle\n",
    "loaded_model=pickle.load(open(\"Finalized_model_LogisticRegression.sav\",'rb'))\n",
    "result=loaded_model.predict([[Input_age, Input_bp, Input_al, Input_Su, Input_Bgr, Input_Bu, Input_Sc,  Input_Sod, Input_Pot, Input_hrmo, Input_pcv, \n",
    "                                Input_wc, Input_rc,  Input_sg_b, Input_sg_c, Input_sg_d, Input_sg_e, Input_rbc_normal, Input_pc_normal, Input_pcc_present,\n",
    "                                Input_ba_present, Input_htn, Input_dm, Input_cad, Input_appet, Input_pe, Input_ane]])"
   ]
  },
  {
   "cell_type": "code",
   "execution_count": 9,
   "id": "32e1f77d-8515-4d64-9de1-14d26ce4a69f",
   "metadata": {},
   "outputs": [
    {
     "name": "stdout",
     "output_type": "stream",
     "text": [
      "Chronic Kidney Disease possibility:\n",
      " [False]\n"
     ]
    }
   ],
   "source": [
    "#View the Result\n",
    "\n",
    "print(\"Chronic Kidney Disease possibility:\\n\", result)"
   ]
  },
  {
   "cell_type": "code",
   "execution_count": null,
   "id": "cc1a98d5-98b2-4e32-8efe-bd96cc00d073",
   "metadata": {},
   "outputs": [],
   "source": []
  }
 ],
 "metadata": {
  "kernelspec": {
   "display_name": "Python 3 (ipykernel)",
   "language": "python",
   "name": "python3"
  },
  "language_info": {
   "codemirror_mode": {
    "name": "ipython",
    "version": 3
   },
   "file_extension": ".py",
   "mimetype": "text/x-python",
   "name": "python",
   "nbconvert_exporter": "python",
   "pygments_lexer": "ipython3",
   "version": "3.12.4"
  }
 },
 "nbformat": 4,
 "nbformat_minor": 5
}
